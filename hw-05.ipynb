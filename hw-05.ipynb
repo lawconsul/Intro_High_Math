{
 "cells": [
  {
   "cell_type": "code",
   "execution_count": 45,
   "metadata": {},
   "outputs": [],
   "source": [
    "import numpy as np"
   ]
  },
  {
   "cell_type": "code",
   "execution_count": 46,
   "metadata": {},
   "outputs": [
    {
     "name": "stdout",
     "output_type": "stream",
     "text": [
      "[[ 0.2  0.   0.   0.   0. ]\n",
      " [ 0.   0.2  0.   0.   0. ]\n",
      " [ 0.   0.   0.2  0.   0. ]\n",
      " [-0.  -0.  -0.   0.2 -0. ]\n",
      " [ 0.   0.   0.   0.   0.2]]\n"
     ]
    }
   ],
   "source": [
    "# 5.1.\n",
    "# Вектор – это частный случай матрицы 1хN и Nх1. Повторите материал для векторов, уделяя особое внимание умножению A∙B.\n",
    "# Вычислите, по возможности не используя программирование: (5Е)–1, где Е – единичная матрица размера 5х5.\n",
    "A = np.identity(5)\n",
    "A_ = np.linalg.inv(5*A)\n",
    "print(A_)"
   ]
  },
  {
   "cell_type": "code",
   "execution_count": 54,
   "metadata": {},
   "outputs": [
    {
     "name": "stdout",
     "output_type": "stream",
     "text": [
      "59.999999999999986\n"
     ]
    }
   ],
   "source": [
    "# 5.2.\n",
    "# Вычислите определитель:\n",
    "\n",
    "A = np.array([[1,2,3],[4,0,6],[7,8,9]])\n",
    "print(np.linalg.det(A))"
   ]
  },
  {
   "cell_type": "code",
   "execution_count": 55,
   "metadata": {},
   "outputs": [
    {
     "name": "stdout",
     "output_type": "stream",
     "text": [
      "[[-0.8         0.1         0.2       ]\n",
      " [ 0.1        -0.2         0.1       ]\n",
      " [ 0.53333333  0.1        -0.13333333]]\n",
      "[[0 0 0 2]\n",
      " [0 0 0 1]\n",
      " [0 0 0 3]\n",
      " [0 0 0 4]]\n",
      "Ранг матрицы: 1\n"
     ]
    }
   ],
   "source": [
    "# 5.3.\n",
    "# 1. Вычислите матрицу, обратную данной:\n",
    "print(np.linalg.inv(A))\n",
    "# 2. Приведите пример матрицы 4х4, ранг которой равен 1.\n",
    "# 0 0 0 2\n",
    "# 0 0 0 1\n",
    "# 0 0 0 3\n",
    "# 0 0 0 4\n",
    "A = np.array([[0,0,0,2],[0,0,0,1],[0,0,0,3],[0,0,0,4]])\n",
    "print(A)\n",
    "print(f'Ранг матрицы: {np.linalg.matrix_rank(A)}')\n"
   ]
  },
  {
   "cell_type": "code",
   "execution_count": 70,
   "metadata": {},
   "outputs": [
    {
     "name": "stdout",
     "output_type": "stream",
     "text": [
      "Косинус а = 0.9988681377244376\n",
      "Cкалярное произведение двух векторов = 42.0\n"
     ]
    }
   ],
   "source": [
    "# 5.4.\n",
    "# Вычислите скалярное произведение двух векторов:  \n",
    "# (1, 5)  и  (2, 8)\n",
    "a = np.sqrt(1+5**2)\n",
    "b = np.sqrt(2**2+8**2)\n",
    "\n",
    "cos_a = np.cos((np.arccos(2/b) - np.arccos(1/a)))\n",
    "print(f'Косинус а = {cos_a}')\n",
    "ab = a*b*cos_a\n",
    "print(f'Cкалярное произведение двух векторов = {ab}')"
   ]
  },
  {
   "cell_type": "code",
   "execution_count": 71,
   "metadata": {},
   "outputs": [
    {
     "name": "stdout",
     "output_type": "stream",
     "text": [
      "Cкалярное произведение двух векторов = 42.0\n"
     ]
    }
   ],
   "source": [
    "a = np.array([1, 5], float)\n",
    "b = np.array([2, 8], float)\n",
    "s = np.inner(a, b)\n",
    "print(f'Cкалярное произведение двух векторов = {s}')"
   ]
  },
  {
   "cell_type": "code",
   "execution_count": 74,
   "metadata": {},
   "outputs": [
    {
     "name": "stdout",
     "output_type": "stream",
     "text": [
      "Cмешанное произведение трех векторов = 228.5\n"
     ]
    }
   ],
   "source": [
    "# 5.5\n",
    "# Вычислите смешанное произведение трех векторов:\n",
    "# (1, 5, 0), (2, 8, 7) и (7, 1.5, 3) \n",
    "a = np.array([1, 5, 0], float)\n",
    "b = np.array([2, 8, 7], float)\n",
    "c = np.array([7, 1.5, 3], float)\n",
    "v = np.cross(a, b)\n",
    "mix = np.inner(v, c)\n",
    "print(f'Cмешанное произведение трех векторов = {mix}')"
   ]
  },
  {
   "cell_type": "code",
   "execution_count": null,
   "metadata": {},
   "outputs": [],
   "source": []
  },
  {
   "cell_type": "code",
   "execution_count": null,
   "metadata": {},
   "outputs": [],
   "source": []
  }
 ],
 "metadata": {
  "kernelspec": {
   "display_name": "Python 3",
   "language": "python",
   "name": "python3"
  },
  "language_info": {
   "codemirror_mode": {
    "name": "ipython",
    "version": 3
   },
   "file_extension": ".py",
   "mimetype": "text/x-python",
   "name": "python",
   "nbconvert_exporter": "python",
   "pygments_lexer": "ipython3",
   "version": "3.6.5"
  }
 },
 "nbformat": 4,
 "nbformat_minor": 2
}
