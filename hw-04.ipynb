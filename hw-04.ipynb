{
 "cells": [
  {
   "cell_type": "code",
   "execution_count": null,
   "metadata": {},
   "outputs": [],
   "source": [
    "# Задания к уроку 4"
   ]
  },
  {
   "cell_type": "code",
   "execution_count": 72,
   "metadata": {},
   "outputs": [],
   "source": [
    "%matplotlib inline\n",
    "import numpy as np\n",
    "import itertools\n",
    "import math\n",
    "import matplotlib.pyplot as plt\n",
    "import matplotlib.mlab as mlab"
   ]
  },
  {
   "cell_type": "code",
   "execution_count": null,
   "metadata": {},
   "outputs": [],
   "source": []
  },
  {
   "cell_type": "code",
   "execution_count": 73,
   "metadata": {},
   "outputs": [
    {
     "name": "stdout",
     "output_type": "stream",
     "text": [
      "События: zero=4, red=14, black=19\n",
      "Суммарная вероятность: EP=1.0\n"
     ]
    }
   ],
   "source": [
    "# HW 4.1\n",
    "#Гистограмма\n",
    "zero,red,black=0,0,0\n",
    "N = 37\n",
    "for i in range (0,N):\n",
    "    x = np.random.randint(0,10)\n",
    "    if x == 0:\n",
    "        zero = zero + 1\n",
    "    elif x %2 == 0:\n",
    "        red = red + 1\n",
    "    elif x %2 == 1:\n",
    "        black = black + 1\n",
    "print(f'События: zero={zero}, red={red}, black={black}')\n",
    "EP = zero/N + red/N + black/N\n",
    "print(f'Суммарная вероятность: EP={EP}')"
   ]
  },
  {
   "cell_type": "code",
   "execution_count": null,
   "metadata": {},
   "outputs": [],
   "source": []
  },
  {
   "cell_type": "code",
   "execution_count": 74,
   "metadata": {},
   "outputs": [
    {
     "name": "stdout",
     "output_type": "stream",
     "text": [
      "События: orel=5013, reshka=4987\n",
      "Суммарная вероятность: EP=1.0\n"
     ]
    }
   ],
   "source": [
    "# HW 4.2.1\n",
    "# Напишите код, проверяющий любую из теорем сложения или умножения вероятности на примере подбрасывания монетки.\n",
    "\n",
    "orel,reshka=0,0\n",
    "N = 10000\n",
    "for i in range (0,N):\n",
    "    x = np.random.uniform(0,10)\n",
    "    if x < 5:\n",
    "#         print(\"orel\")\n",
    "        orel = orel + 1\n",
    "    elif x >= 5:\n",
    "#         print(\"reshka\")\n",
    "        reshka = reshka + 1\n",
    "print(f'События: orel={orel}, reshka={reshka}')\n",
    "EP = orel/N + reshka/N\n",
    "print(f'Суммарная вероятность: EP={EP}')"
   ]
  },
  {
   "cell_type": "code",
   "execution_count": null,
   "metadata": {},
   "outputs": [],
   "source": []
  },
  {
   "cell_type": "code",
   "execution_count": 75,
   "metadata": {},
   "outputs": [
    {
     "data": {
      "image/png": "[encoded data removed]",
      "text/plain": [
       "<Figure size 432x288 with 1 Axes>"
      ]
     },
     "metadata": {},
     "output_type": "display_data"
    }
   ],
   "source": [
    "# HW 4.2.2\n",
    "# Сгенерируйте десять выборок случайных чисел х0, …, х9.\n",
    "# и постройте гистограмму распределения случайной суммы х0+х1+ …+ х9.\n",
    "# Надо сгенерировать 10 выборок по 1000 случайных чисел в каждой, а потом сложить их по 10. \n",
    "# Т.е. в итоге получится 11-я выборка из 1000 чиел. Надо построить ее гистограмму.\n",
    "# Это все для того, чтобы проверить, что сумма нескольких (в нашем примере - десяти) случайных чисел \n",
    "# будет иметь нормальное распределение.\n",
    "x = np.zeros(1000)\n",
    "for i in range(0,10):\n",
    "    temp = np.random.randn(1000)\n",
    "    x = x + temp\n",
    "\n",
    "num_bins = 10\n",
    "n, bins, patches = plt.hist(x, num_bins)\n",
    "plt.show()"
   ]
  },
  {
   "cell_type": "code",
   "execution_count": null,
   "metadata": {},
   "outputs": [],
   "source": []
  },
  {
   "cell_type": "code",
   "execution_count": 76,
   "metadata": {},
   "outputs": [
    {
     "name": "stdout",
     "output_type": "stream",
     "text": [
      "True\n"
     ]
    }
   ],
   "source": [
    "# HW 4.3.1\n",
    "# Дополните код Монте-Карло последовательности независимых испытаний расчетом соответствующих вероятностей \n",
    "# (через биномиальное распределение) и сравните результаты.\n",
    "def Pnk(n,k):\n",
    "    Cnk = (math.factorial(n)) / (math.factorial(k) * math.factorial(n-k))\n",
    "    pnk = Cnk / 2**n\n",
    "    return pnk\n",
    "print(Pnk(4,2) == 0.375)"
   ]
  },
  {
   "cell_type": "code",
   "execution_count": null,
   "metadata": {},
   "outputs": [],
   "source": []
  },
  {
   "cell_type": "code",
   "execution_count": 86,
   "metadata": {},
   "outputs": [
    {
     "name": "stdout",
     "output_type": "stream",
     "text": [
      "Метод Монте-Карло (k/n): Pnk=0.156262\n",
      "Биномиальное распределение Pnk=0.15625\n"
     ]
    }
   ],
   "source": [
    "# HW 4.3.2\n",
    "# Повторите расчеты, взяв другие значения n и k.\n",
    "# 4 успешных подбрасываний из 5\n",
    "k, n = 0, 1000000\n",
    "a = np.random.randint(0, 2, n)\n",
    "b = np.random.randint(0, 2, n)\n",
    "c = np.random.randint(0, 2, n)\n",
    "d = np.random.randint(0, 2, n)\n",
    "e = np.random.randint(0, 2, n)\n",
    "x = a + b + c + d + e\n",
    "for i in range(0, n):\n",
    "    if x[i] == 4:\n",
    "        k = k + 1\n",
    "kn = k/n\n",
    "print(f'Метод Монте-Карло (k/n): Pnk={k/n}')\n",
    "pnk = Pnk(5,4)\n",
    "print(f'Биномиальное распределение Pnk={pnk}')\n",
    "# 0.15625 примерно равно 0.156368"
   ]
  },
  {
   "cell_type": "code",
   "execution_count": null,
   "metadata": {},
   "outputs": [],
   "source": []
  },
  {
   "cell_type": "code",
   "execution_count": 87,
   "metadata": {},
   "outputs": [
    {
     "name": "stdout",
     "output_type": "stream",
     "text": [
      "AAA\n",
      "AAB\n",
      "AAC\n",
      "ABA\n",
      "ABB\n",
      "ABC\n",
      "ACA\n",
      "ACB\n",
      "ACC\n",
      "BAA\n",
      "BAB\n",
      "BAC\n",
      "BBA\n",
      "BBB\n",
      "BBC\n",
      "BCA\n",
      "BCB\n",
      "BCC\n",
      "CAA\n",
      "CAB\n",
      "CAC\n",
      "CBA\n",
      "CBB\n",
      "CBC\n",
      "CCA\n",
      "CCB\n",
      "CCC\n"
     ]
    }
   ],
   "source": [
    "# HW 4.4\n",
    "# Повторите расчеты, взяв другие значения n и k.\n",
    "# Возьмем три символа A,B,C\n",
    "\n",
    "#Варианты: 3^3\n",
    "for p in itertools.product(\"ABC\",repeat=3):\n",
    "    print(''.join(p)) "
   ]
  },
  {
   "cell_type": "code",
   "execution_count": 79,
   "metadata": {},
   "outputs": [
    {
     "name": "stdout",
     "output_type": "stream",
     "text": [
      "AB\n",
      "AC\n",
      "BA\n",
      "BC\n",
      "CA\n",
      "CB\n"
     ]
    }
   ],
   "source": [
    "# HW 4.4\n",
    "# Перестановка 2-х симвлов\n",
    "for p in itertools.permutations(\"ABC\",2):\n",
    "    print(''.join(str(x) for x in p))"
   ]
  },
  {
   "cell_type": "code",
   "execution_count": 80,
   "metadata": {},
   "outputs": [
    {
     "name": "stdout",
     "output_type": "stream",
     "text": [
      "AB\n",
      "AC\n",
      "BC\n"
     ]
    }
   ],
   "source": [
    "# HW 4.4\n",
    "# Комбинация 2-х симвлов\n",
    "for p in itertools.combinations(\"ABC\",2):\n",
    "    print(''.join(str(x) for x in p))"
   ]
  },
  {
   "cell_type": "code",
   "execution_count": null,
   "metadata": {},
   "outputs": [],
   "source": []
  },
  {
   "cell_type": "code",
   "execution_count": 82,
   "metadata": {},
   "outputs": [
    {
     "name": "stdout",
     "output_type": "stream",
     "text": [
      "Коэффициент корреляции (посчитан вручную): R=0.9932119721223229\n"
     ]
    },
    {
     "data": {
      "image/png": "[encoded data removed]",
      "text/plain": [
       "<Figure size 432x288 with 1 Axes>"
      ]
     },
     "metadata": {},
     "output_type": "display_data"
    }
   ],
   "source": [
    "# HW 4.5 Дополните код расчетом коэффициента корреляции x и y по формуле\n",
    "n = 100\n",
    "r = 0.9\n",
    "x = np.random.rand(n)\n",
    "y = r*x + (1 - r)*np.random.rand(n)\n",
    "plt.plot(x, y, 'o')\n",
    "plt.xlabel('x')\n",
    "plt.ylabel('y')\n",
    "plt.grid(True)\n",
    "\n",
    "a = (np.sum(x)*np.sum(y) - n*np.sum(x*y))/(np.sum(x)*np.sum(x) - n*np.sum(x*x))\n",
    "b = (np.sum(y) - a*np.sum(x))/n\n",
    "R = (sum((x-np.average(x))*(y-np.average(y))))/math.sqrt((np.sum((x-np.average(x))**2))*(np.sum((y-np.average(y))**2)))\n",
    "print(f\"Коэффициент корреляции (посчитан вручную): R={R}\")"
   ]
  },
  {
   "cell_type": "code",
   "execution_count": null,
   "metadata": {},
   "outputs": [],
   "source": []
  }
 ],
 "metadata": {
  "kernelspec": {
   "display_name": "Python 3",
   "language": "python",
   "name": "python3"
  },
  "language_info": {
   "codemirror_mode": {
    "name": "ipython",
    "version": 3
   },
   "file_extension": ".py",
   "mimetype": "text/x-python",
   "name": "python",
   "nbconvert_exporter": "python",
   "pygments_lexer": "ipython3",
   "version": "3.6.5"
  }
 },
 "nbformat": 4,
 "nbformat_minor": 2
}
