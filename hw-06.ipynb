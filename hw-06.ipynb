{
 "cells": [
  {
   "cell_type": "code",
   "execution_count": 1,
   "metadata": {},
   "outputs": [],
   "source": [
    "import numpy as np\n",
    "import numpy.linalg\n",
    "# import sys\n",
    "# sys.rcond = -1"
   ]
  },
  {
   "cell_type": "code",
   "execution_count": 2,
   "metadata": {},
   "outputs": [
    {
     "name": "stdout",
     "output_type": "stream",
     "text": [
      "Корни решения: [-9.2         0.9         6.46666667]]\n"
     ]
    }
   ],
   "source": [
    "# 1 Решите линейную систему:\n",
    "# 1*X1 + 2*X2 + 3*X3 = 12\n",
    "# 4*X1 + 0*X2 + 6*X3 = 2\n",
    "# 7*X1 + 8*X2 + 9*X3 = 1\n",
    "A = np.array([[1,2,3],[4,0,6],[7,8,9]])\n",
    "B = np.array([12,2,1])\n",
    "X_roots = np.linalg.lstsq(A,B, rcond = None)[0]\n",
    "print(f'Корни решения: {X_roots}]')"
   ]
  },
  {
   "cell_type": "raw",
   "metadata": {},
   "source": [
    "\n"
   ]
  },
  {
   "cell_type": "code",
   "execution_count": 11,
   "metadata": {},
   "outputs": [
    {
     "name": "stdout",
     "output_type": "stream",
     "text": [
      "Ранг матрицы А: 3\n",
      "Корни решения: [ 1.13919353 -0.90498444 -0.9009803 ]]\n",
      "Невязки: [-0.76979505  0.03751835 -0.16349016 -0.21671144  0.21805317]]\n",
      "Норма невязки: [0.71523211]]\n",
      "Норма невязки 1: 0.8508231308562318]\n",
      "Норма невязки 2: 1.1542963224406466]\n"
     ]
    }
   ],
   "source": [
    "# 2 Найдите псевдорешение:\n",
    "#  x + 2y – z = 1\n",
    "# 3x – 4y + 0z = 7\n",
    "# 8x – 5y + 2z = 12\n",
    "# 2x + 0y – 5z = 7\n",
    "# 11x +4y – 7z = 15\n",
    "A = np.array([[1,2,-1],[3,-4,0],[8,-5,2],[2,0,-5],[11,4,-7]])\n",
    "B = np.array([1,7,12,7,15])\n",
    "matrix_rank = np.linalg.matrix_rank(A,0.001)\n",
    "print(f'Ранг матрицы А: {matrix_rank}')\n",
    "X_roots = np.linalg.lstsq(A,B, rcond = None)[0]\n",
    "print(f'Корни решения: {X_roots}]')\n",
    "x = np.dot(A, [1.13919353, -0.90498444, -0.9009803])-B\n",
    "print(f'Невязки: {x}]')\n",
    "X_roots = np.linalg.lstsq(A,B, rcond = None)[1]\n",
    "print(f'Норма невязки: {X_roots}]')\n",
    "x = np.dot(A, [1.13, -0.91, -0.91])-B\n",
    "print(f'Норма невязки 1: {np.linalg.norm(x)}]') \n",
    "x = np.dot(A, [1.14, -0.8, -0.8])-B\n",
    "print(f'Норма невязки 2: {np.linalg.norm(x)}]')              "
   ]
  },
  {
   "cell_type": "code",
   "execution_count": 22,
   "metadata": {},
   "outputs": [
    {
     "name": "stdout",
     "output_type": "stream",
     "text": [
      "Ранг матрицы А: 2\n",
      "Ранг матрицы С: 3\n",
      "Вывод: Система несовместная\n",
      "Определитель матрицы А: -9.51619735392994e-16\n",
      "Расходящиеся решения: [ 2.83726777e+16 -5.67453553e+16  2.83726777e+16]]\n",
      "Ранг матрицы А: 2\n",
      "Ранг матрицы С: 2\n",
      "Вывод: Система совместная\n",
      "Невязки: [0.00000000e+00 7.10542736e-15 0.00000000e+00]]\n",
      "Норма невязки: 7.105427357601002e-15]\n"
     ]
    }
   ],
   "source": [
    "# 3 Сколько решений имеет линейная система:\n",
    "# 1*X1 + 2*X2 + 3*X3 = 12\n",
    "# 4*X1 + 5*X2 + 6*X3 = 2\n",
    "# 7*X1 + 8*X2 + 9*X3 = 1\n",
    "# Если ноль – то измените вектор правой части так, чтобы система стала совместной, и решите ее. \n",
    "A = np.array([[1,2,3],[4,5,6],[7,8,9]])\n",
    "B = np.array([12,2,1])\n",
    "C = np.array([[1,2,3,12],[4,5,6,2],[7,8,9,1]])\n",
    "print(f'Ранг матрицы А: {np.linalg.matrix_rank(A)}')\n",
    "print(f'Ранг матрицы С: {np.linalg.matrix_rank(C)}')\n",
    "print(\"Вывод: Система несовместная\")\n",
    "X_roots = np.linalg.solve(A,B)\n",
    "print(f'Определитель матрицы А: {np.linalg.det(A)}')\n",
    "print(f'Расходящиеся решения: {X_roots}]')\n",
    "\n",
    "# Подберем правую часть, например для корней (х1=3,х2=2,х3=1)\n",
    "# 1*3 + 2*2 + 3*1 = 10\n",
    "# 4*3 + 5*2 + 6*1 = 28\n",
    "# 7*3 + 8*2 + 9*1 = 46\n",
    "B1 = np.array([10,28,46])\n",
    "C = np.array([[1,2,3,10],[4,5,6,28],[7,8,9,46]])\n",
    "print(f'Ранг матрицы А: {np.linalg.matrix_rank(A)}')\n",
    "print(f'Ранг матрицы С: {np.linalg.matrix_rank(C)}')\n",
    "print(\"Вывод: Система совместная\")\n",
    "X_roots = np.linalg.solve(A,B1)\n",
    "x = np.dot(A, X_roots)-B1\n",
    "print(f'Невязки: {x}]')\n",
    "print(f'Норма невязки: {np.linalg.norm(x)}]') "
   ]
  },
  {
   "cell_type": "code",
   "execution_count": 35,
   "metadata": {},
   "outputs": [
    {
     "name": "stdout",
     "output_type": "stream",
     "text": [
      "Определитель матрицы А: 432.00000000000017\n",
      "Матрица хорошая\n",
      "P=[[0. 1. 0.]\n",
      " [0. 0. 1.]\n",
      " [1. 0. 0.]]\n",
      "L=[[ 1.    0.    0.  ]\n",
      " [ 0.25  1.    0.  ]\n",
      " [ 0.5  -0.4   1.  ]]\n",
      "U=[[  4.    28.    73.  ]\n",
      " [  0.    -5.   -15.25]\n",
      " [  0.     0.   -21.6 ]]\n",
      "P-1*A=[[ 4. 28. 73.]\n",
      " [ 1.  2.  3.]\n",
      " [ 2. 16. 21.]]\n",
      "L*U=[[ 4. 28. 73.]\n",
      " [ 1.  2.  3.]\n",
      " [ 2. 16. 21.]]\n",
      "P-1*A - L*U=[[0. 0. 0.]\n",
      " [0. 0. 0.]\n",
      " [0. 0. 0.]]\n",
      "Корни решения: [ 6.38796296 -0.53009259 -0.44259259]]\n",
      "Невязки: [ 0.00000000e+00 -1.77635684e-15  0.00000000e+00]]\n",
      "Норма невязки: 1.7763568394002505e-15]\n"
     ]
    }
   ],
   "source": [
    "# 4. Вычислите LU-разложение матрицы:\n",
    "# После этого придумайте вектор правых частей и решите полученную линейную систему трех уравнений с данной матрицей.\n",
    "import scipy \n",
    "import scipy.linalg\n",
    "print(f'Определитель матрицы А: {np.linalg.det(A)}')\n",
    "print('Матрица хорошая')\n",
    "A = np.array([[1,2,3],[2,16,21],[4,28,73]])\n",
    "P,L,U = scipy.linalg.lu(A)\n",
    "print(f'P={P}')\n",
    "print(f'L={L}')\n",
    "print(f'U={U}')\n",
    "\n",
    "P_1_A = np.dot(P.transpose(),A)\n",
    "print(f'P-1*A={P_1_A}')\n",
    "L_U = np.dot(L,U)\n",
    "print(f'L*U={L_U}')\n",
    "CHECK = P_1_A - L_U\n",
    "print(f'P-1*A - L*U={CHECK}')\n",
    "\n",
    "B = np.array([4,-5,-21.6])\n",
    "X_roots = np.linalg.solve(A,B)\n",
    "print(f'Корни решения: {X_roots}]')\n",
    "x = np.dot(A, X_roots)-B\n",
    "print(f'Невязки: {x}]')\n",
    "print(f'Норма невязки: {np.linalg.norm(x)}]') "
   ]
  },
  {
   "cell_type": "code",
   "execution_count": 39,
   "metadata": {},
   "outputs": [
    {
     "name": "stdout",
     "output_type": "stream",
     "text": [
      "Корни псевдорешения недоопределенной системы: [ 1.38191882 -0.18081181  0.0202952 ]]\n",
      "Невязки: [ 2.88657986e-15 -1.77635684e-15]]\n",
      "Норма невязки: 3.3893637946200144e-15]\n"
     ]
    }
   ],
   "source": [
    "# 5. Найдите нормальное псевдорешение недоопределенной системы:\n",
    "# x + 2y – z = 1\n",
    "# 8x – 5y + 2z = 12\n",
    "### КАК ОПРЕДЕЛИТЬ? LESSON №6 PART#5 Timestamp 8-46\n",
    "### Для этого определите функцию Q(x,y,z), равную норме решения, и найдите ее минимум. \n",
    "###\n",
    "import matplotlib.pyplot as plt\n",
    "A = np.array([[1,2,-1],[8,-5,2]])\n",
    "B = np.array([1,12])\n",
    "X_roots = np.linalg.lstsq(A,B, rcond = None)[0]\n",
    "# print(f'Определитель матрицы А: {np.linalg.det(A)}')\n",
    "print(f'Корни псевдорешения недоопределенной системы: {X_roots}]')\n",
    "x = np.dot(A, X_roots)-B\n",
    "print(f'Невязки: {x}]')\n",
    "print(f'Норма невязки: {np.linalg.norm(x)}]') "
   ]
  },
  {
   "cell_type": "code",
   "execution_count": 38,
   "metadata": {},
   "outputs": [
    {
     "data": {
      "image/png": "[encoded data removed]",
      "text/plain": [
       "<Figure size 432x288 with 1 Axes>"
      ]
     },
     "metadata": {},
     "output_type": "display_data"
    }
   ],
   "source": [
    "def Q(x, y, z):\n",
    "    return (x**2 + y**2 + z**2)\n",
    "\n",
    "x = np.linspace(1, 2, 201)\n",
    "# x + 2y – z = 1     (*2)\n",
    "# 8x – 5y + 2z = 12 \n",
    "# сложим оба уравнения:\n",
    "# 10x - y = 14\n",
    "# y = 10x - 14\n",
    "# x + 2(10x - 14) - z = 1\n",
    "# z = 21x - 29\n",
    "plt.plot(x, Q(x, 10*x - 14, 21*x - 29))\n",
    "plt.xlabel('x')\n",
    "plt.ylabel('y')\n",
    "plt.grid(True)\n",
    "plt.show()"
   ]
  },
  {
   "cell_type": "code",
   "execution_count": 62,
   "metadata": {},
   "outputs": [
    {
     "name": "stdout",
     "output_type": "stream",
     "text": [
      "Ранг матрицы А: 2\n",
      "Ранг матрицы С: 3\n",
      "Вывод: Система несовместная (вырожденная)\n",
      "Q=[[-0.12309149  0.90453403  0.40824829]\n",
      " [-0.49236596  0.30151134 -0.81649658]\n",
      " [-0.86164044 -0.30151134  0.40824829]]\n",
      "R=[[-8.12403840e+00 -9.60113630e+00 -1.10782342e+01]\n",
      " [ 0.00000000e+00  9.04534034e-01  1.80906807e+00]\n",
      " [ 0.00000000e+00  0.00000000e+00 -1.11164740e-15]]\n",
      "R1=[[-8.1240384  -9.6011363 ]\n",
      " [ 0.          0.90453403]]\n",
      "B1=[-1.21860576e+01  8.54871729e-15]\n",
      "Корни псевдорешения X1: [1.50000000e+00 9.45096256e-15]]\n",
      "Корни псевдорешения X, полученные в ходе QR-разложения: [1.50000000e+00 9.45096256e-15 0.00000000e+00]]\n",
      "Невязки при QR-разложении: [-0.5  1.  -0.5]]\n",
      "Норма невязки в ходе QR-разложения: 1.2247448713915885]\n",
      "Корни нормального псевдорешения: [ 1.25  0.5  -0.25]]\n",
      "Невязки нормального псевдорешения: [-0.5  1.  -0.5]]\n",
      "Норма невязки нормального псевдорешения: 1.224744871391589]\n"
     ]
    }
   ],
   "source": [
    "# 6. Найдите одно из псевдорешений вырожденной системы:\n",
    "\n",
    "# Попробуйте также отыскать и нормальное псевдорешение.\n",
    "# 1*X1 + 2*X2 + 3*X3 = 2\n",
    "# 4*X1 + 5*X2 + 6*X3 = 5\n",
    "# 7*X1 + 8*X2 + 9*X3 = 11\n",
    "# QR - разложение\n",
    "# LESSON №6 PART#6 Timestamp 6-46\n",
    "\n",
    "A = np.array([[1,2,3],[4,5,6],[7,8,9]])\n",
    "B = np.array([2,5,11])\n",
    "C = np.array([[1,2,3,2],[4,5,6,5],[7,8,9,11]])\n",
    "print(f'Ранг матрицы А: {np.linalg.matrix_rank(A)}')\n",
    "print(f'Ранг матрицы С: {np.linalg.matrix_rank(C)}')\n",
    "print(\"Вывод: Система несовместная (вырожденная)\")\n",
    "\n",
    "Q,R = np.linalg.qr(A)\n",
    "print(f'Q={Q}')\n",
    "print(f'R={R}')\n",
    "R1 = R[:2,:2]\n",
    "print(f'R1={R1}')\n",
    "B1 = np.dot(Q.transpose(),B)[:2]\n",
    "print(f'B1={B1}')\n",
    "X1 = np.linalg.solve(R1,B1)\n",
    "print(f'Корни псевдорешения X1: {X1}]')\n",
    "#X1 = np.array([1.5,0])\n",
    "X2 = np.array([0])\n",
    "X_roots_QR = np.append(X1,X2)\n",
    "print(f'Корни псевдорешения X, полученные в ходе QR-разложения: {X_roots_QR}]')\n",
    "\n",
    "x_QR = np.dot(A, X_roots_QR)-B\n",
    "print(f'Невязки при QR-разложении: {x_QR}]')\n",
    "print(f'Норма невязки в ходе QR-разложения: {np.linalg.norm(x_QR)}]') \n",
    "\n",
    "\n",
    "\n",
    "X_roots = np.linalg.lstsq(A,B, rcond = None)[0]\n",
    "print(f'Корни нормального псевдорешения: {X_roots}]')\n",
    "x = np.dot(A, X_roots)-B\n",
    "print(f'Невязки нормального псевдорешения: {x}]')\n",
    "print(f'Норма невязки нормального псевдорешения: {np.linalg.norm(x)}]') "
   ]
  },
  {
   "cell_type": "code",
   "execution_count": 58,
   "metadata": {},
   "outputs": [
    {
     "data": {
      "image/png": "[encoded data removed]",
      "text/plain": [
       "<Figure size 432x288 with 1 Axes>"
      ]
     },
     "metadata": {},
     "output_type": "display_data"
    }
   ],
   "source": [
    "# нормальное псевдорешение\n",
    "# 1*X + 2*y + 3*z = 2\n",
    "# 4*X + 5*y + 6*z = 5\n",
    "# 7*X + 8*y + 9*z = 11\n",
    "\n",
    "# 2*X + 1*y + 0*z = 0 \n",
    "# y = -2*X\n",
    "# 1. 1*X + 2*(-2*X) + 3*z = 2\n",
    "# -3*X + 3*z = 2\n",
    "#  z = 2/3 + X\n",
    "# \n",
    "# 3. 7*X + 8*(-2*X) + 9*z = 11\n",
    "# -9*X + 9*z = 11\n",
    "#  z = 11/9 + X\n",
    "\n",
    "def Q(x, y, z):\n",
    "    return (x**2 + y**2 + z**2)\n",
    "x = np.linspace(-5.5, -4, 101)\n",
    "\n",
    "plt.plot(x, Q(x, -2*x - 14, x + 2/3))\n",
    "plt.plot(x, Q(x, -2*x - 14, x + 11/9))\n",
    "plt.xlabel('x')\n",
    "plt.ylabel('y')\n",
    "plt.grid(True)\n",
    "plt.show()"
   ]
  },
  {
   "cell_type": "code",
   "execution_count": null,
   "metadata": {},
   "outputs": [],
   "source": []
  }
 ],
 "metadata": {
  "kernelspec": {
   "display_name": "Python 3",
   "language": "python",
   "name": "python3"
  },
  "language_info": {
   "codemirror_mode": {
    "name": "ipython",
    "version": 3
   },
   "file_extension": ".py",
   "mimetype": "text/x-python",
   "name": "python",
   "nbconvert_exporter": "python",
   "pygments_lexer": "ipython3",
   "version": "3.6.5"
  }
 },
 "nbformat": 4,
 "nbformat_minor": 2
}
